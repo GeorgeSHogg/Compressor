{
 "cells": [
  {
   "cell_type": "code",
   "execution_count": 7,
   "metadata": {},
   "outputs": [
    {
     "name": "stderr",
     "output_type": "stream",
     "text": [
      "AVX = 1 | AVX2 = 1 | AVX512 = 0 | AVX512_VBMI = 0 | AVX512_VNNI = 0 | FMA = 1 | NEON = 0 | ARM_FMA = 0 | F16C = 1 | FP16_VA = 0 | WASM_SIMD = 0 | BLAS = 0 | SSE3 = 1 | VSX = 0 | \n"
     ]
    }
   ],
   "source": [
    "from llama_cpp import ChatCompletionMessage, Llama\n",
    "\n",
    "path = \"C:/Users/georg/AppData/Local/llama_index/models/llama-2-13b-chat.ggmlv3.q4_0.bin\"\n",
    "llm = Llama(path, logits_all = True)"
   ]
  },
  {
   "cell_type": "code",
   "execution_count": 38,
   "metadata": {},
   "outputs": [
    {
     "name": "stderr",
     "output_type": "stream",
     "text": [
      "Llama.generate: prefix-match hit\n"
     ]
    },
    {
     "name": "stdout",
     "output_type": "stream",
     "text": [
      "ire\n",
      "[{'ire': -0.000451247563683358, 'ires': -8.215060393681847, 'ower': -9.49640766846212, 'ired': -10.079715888371789, 'lo': -11.776619117131554, 'lacement': -12.12756172882589, 'ir': -12.13960186707052, 'ri': -12.491997878423058, '...': -12.498330275883996, 'ore': -12.572381179204308}]\n"
     ]
    }
   ],
   "source": [
    "def generate_text(\n",
    "    prompt=\"Who is the CEO of Apple?\",\n",
    "    max_tokens=32,\n",
    "    temperature=0,\n",
    "    top_p=0.5,\n",
    "    echo=False,\n",
    "    stop=[\"#\"],\n",
    "):\n",
    "    output = llm(\n",
    "        prompt,\n",
    "        max_tokens=1,\n",
    "        temperature=temperature,\n",
    "        top_p=top_p,\n",
    "        echo=echo,\n",
    "        stop=stop,\n",
    "        logprobs = 10\n",
    "    )\n",
    "    output_text = output[\"choices\"][0][\"text\"].strip()\n",
    "    return output_text, output\n",
    "\n",
    "output_text, output = generate_text(\"One day Lucas, the Great, marched towards the rest of his emp\")\n",
    "print(output_text)\n",
    "print(output[\"choices\"][0][\"logprobs\"][\"top_logprobs\"])"
   ]
  }
 ],
 "metadata": {
  "kernelspec": {
   "display_name": "base",
   "language": "python",
   "name": "python3"
  },
  "language_info": {
   "codemirror_mode": {
    "name": "ipython",
    "version": 3
   },
   "file_extension": ".py",
   "mimetype": "text/x-python",
   "name": "python",
   "nbconvert_exporter": "python",
   "pygments_lexer": "ipython3",
   "version": "3.11.3"
  },
  "orig_nbformat": 4
 },
 "nbformat": 4,
 "nbformat_minor": 2
}
